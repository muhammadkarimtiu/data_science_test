{
  "nbformat": 4,
  "nbformat_minor": 0,
  "metadata": {
    "colab": {
      "name": "numpy_nb.ipynb",
      "provenance": [],
      "collapsed_sections": [],
      "authorship_tag": "ABX9TyOTmUrp2LoslWu7XJOVS3Fb",
      "include_colab_link": true
    },
    "kernelspec": {
      "name": "python3",
      "display_name": "Python 3"
    },
    "language_info": {
      "name": "python"
    }
  },
  "cells": [
    {
      "cell_type": "markdown",
      "metadata": {
        "id": "view-in-github",
        "colab_type": "text"
      },
      "source": [
        "<a href=\"https://colab.research.google.com/github/muhammadkarimtiu/data_science_test/blob/main/numpy_nb.ipynb\" target=\"_parent\"><img src=\"https://colab.research.google.com/assets/colab-badge.svg\" alt=\"Open In Colab\"/></a>"
      ]
    },
    {
      "cell_type": "markdown",
      "source": [
        "# NumPy kutubxonasi"
      ],
      "metadata": {
        "id": "nl85j-vvtQLU"
      }
    },
    {
      "cell_type": "markdown",
      "source": [
        "NumPy kutubxonasini chaqirib olamiz"
      ],
      "metadata": {
        "id": "MoL6OpoWtZKM"
      }
    },
    {
      "cell_type": "code",
      "execution_count": null,
      "metadata": {
        "id": "lV9YUgZgtF_-"
      },
      "outputs": [],
      "source": [
        "import numpy as np"
      ]
    },
    {
      "cell_type": "markdown",
      "source": [
        "Python list bilan NumPy kutubxonasidagi massivlar (arraylar) hisoblashlari orasidagi farqni ko'ramiz."
      ],
      "metadata": {
        "id": "L8eoJb4WuKQb"
      }
    },
    {
      "cell_type": "code",
      "source": [
        "my_list = list(range(100000)) # python list 0~99999  --> Normal\n",
        "my_arry = np.array(range(100000)) # numpy array(massiv) 0~99999  --> Vektorlashgan"
      ],
      "metadata": {
        "id": "Gsgnft2huN_B"
      },
      "execution_count": null,
      "outputs": []
    },
    {
      "cell_type": "code",
      "source": [
        "%time for _ in range(10): [x*2 for x in my_list] # Normal"
      ],
      "metadata": {
        "colab": {
          "base_uri": "https://localhost:8080/"
        },
        "id": "g7nzxz8fuw05",
        "outputId": "ee733b2e-d378-4f28-b443-603fabf60066"
      },
      "execution_count": null,
      "outputs": [
        {
          "output_type": "stream",
          "name": "stdout",
          "text": [
            "CPU times: user 82.3 ms, sys: 19.5 ms, total: 102 ms\n",
            "Wall time: 104 ms\n"
          ]
        }
      ]
    },
    {
      "cell_type": "code",
      "source": [
        "%time for _ in range(10): my_arry*2  # Vektorlashgan"
      ],
      "metadata": {
        "colab": {
          "base_uri": "https://localhost:8080/"
        },
        "id": "5MCxO8Joveeg",
        "outputId": "4d13f639-7cfc-414d-83ac-86d068deadeb"
      },
      "execution_count": null,
      "outputs": [
        {
          "output_type": "stream",
          "name": "stdout",
          "text": [
            "CPU times: user 4.55 ms, sys: 42 µs, total: 4.59 ms\n",
            "Wall time: 3.15 ms\n"
          ]
        }
      ]
    },
    {
      "cell_type": "code",
      "source": [
        "104/3.15"
      ],
      "metadata": {
        "colab": {
          "base_uri": "https://localhost:8080/"
        },
        "id": "cjfrVB_IwDjX",
        "outputId": "d5c721f6-8853-4dee-cc3e-d59c6748188f"
      },
      "execution_count": null,
      "outputs": [
        {
          "output_type": "execute_result",
          "data": {
            "text/plain": [
              "33.01587301587302"
            ]
          },
          "metadata": {},
          "execution_count": 10
        }
      ]
    },
    {
      "cell_type": "markdown",
      "source": [
        "# 2.1. NumPy kutubxonasi bilan ishlash"
      ],
      "metadata": {
        "id": "hru8-FUHxKho"
      }
    },
    {
      "cell_type": "markdown",
      "source": [
        "2.1.1. N-o'lchamli massiv (array)larga ishlov berish\n",
        "\n",
        "Numpyda massiv yaratishning eng oson yo'llaridan biri bu array funksiyasi yordamida amalga oshiriladi. Va ushbu funksiya har qanday turdagi ketma-ket ma'lumotlarni qabul qilib, uni yangi Numpy arrayiga o'girib beradi."
      ],
      "metadata": {
        "id": "NpVpsc9oxRA3"
      }
    },
    {
      "cell_type": "code",
      "source": [
        "data1 = [2.5, 3.8, 40, 16] # list\n",
        "arr1 = np.array(data1)\n",
        "\n",
        "arr1"
      ],
      "metadata": {
        "id": "wlKB_PxJxMPO",
        "colab": {
          "base_uri": "https://localhost:8080/"
        },
        "outputId": "ebf1610e-eefb-4824-ffe7-77d9d226fab4"
      },
      "execution_count": null,
      "outputs": [
        {
          "output_type": "execute_result",
          "data": {
            "text/plain": [
              "array([ 2.5,  3.8, 40. , 16. ])"
            ]
          },
          "metadata": {},
          "execution_count": 4
        }
      ]
    },
    {
      "cell_type": "code",
      "source": [
        "data2 = [[2, 45, 3, 12], [15, 2, 35, 1.5]] # list ichidagi list (nested list)\n",
        "arr2 = np.array(data2)\n",
        "\n",
        "arr2"
      ],
      "metadata": {
        "id": "d2Mkueyfxnb8",
        "colab": {
          "base_uri": "https://localhost:8080/"
        },
        "outputId": "e30802e0-ac44-4e3b-e9dc-02b1b2fa15c1"
      },
      "execution_count": null,
      "outputs": [
        {
          "output_type": "execute_result",
          "data": {
            "text/plain": [
              "array([[ 2. , 45. ,  3. , 12. ],\n",
              "       [15. ,  2. , 35. ,  1.5]])"
            ]
          },
          "metadata": {},
          "execution_count": 7
        }
      ]
    },
    {
      "cell_type": "code",
      "source": [
        "arr1.ndim"
      ],
      "metadata": {
        "colab": {
          "base_uri": "https://localhost:8080/"
        },
        "id": "bbBViv5fvN2n",
        "outputId": "f73e9953-2e84-4f18-f1a3-c1304bce28fa"
      },
      "execution_count": null,
      "outputs": [
        {
          "output_type": "execute_result",
          "data": {
            "text/plain": [
              "1"
            ]
          },
          "metadata": {},
          "execution_count": 8
        }
      ]
    },
    {
      "cell_type": "code",
      "source": [
        "arr2.ndim"
      ],
      "metadata": {
        "colab": {
          "base_uri": "https://localhost:8080/"
        },
        "id": "EzPlBKokA0ew",
        "outputId": "cdcb03da-3a6e-449c-e83c-316bb9c9f666"
      },
      "execution_count": null,
      "outputs": [
        {
          "output_type": "execute_result",
          "data": {
            "text/plain": [
              "2"
            ]
          },
          "metadata": {},
          "execution_count": 9
        }
      ]
    },
    {
      "cell_type": "code",
      "source": [
        "data3 = [[2, 23, 33, 14], [1, 74, -5, 28], [32, 45, 22, 1]]  # list ichida list (nested list)\n",
        "arr3 = np.array(data3)"
      ],
      "metadata": {
        "id": "4RCYKJySA3Sn"
      },
      "execution_count": null,
      "outputs": []
    },
    {
      "cell_type": "code",
      "source": [
        "arr3"
      ],
      "metadata": {
        "colab": {
          "base_uri": "https://localhost:8080/"
        },
        "id": "3j0aWulvBjO4",
        "outputId": "299050df-fc52-4df4-d6cb-748753156661"
      },
      "execution_count": null,
      "outputs": [
        {
          "output_type": "execute_result",
          "data": {
            "text/plain": [
              "array([[ 2, 23, 33, 14],\n",
              "       [ 1, 74, -5, 28],\n",
              "       [32, 45, 22,  1]])"
            ]
          },
          "metadata": {},
          "execution_count": 12
        }
      ]
    },
    {
      "cell_type": "code",
      "source": [
        "arr3.ndim"
      ],
      "metadata": {
        "colab": {
          "base_uri": "https://localhost:8080/"
        },
        "id": "1BvjayTHBnsP",
        "outputId": "a742a746-b142-4ca8-8cc5-9b27ad5d5e75"
      },
      "execution_count": null,
      "outputs": [
        {
          "output_type": "execute_result",
          "data": {
            "text/plain": [
              "2"
            ]
          },
          "metadata": {},
          "execution_count": 13
        }
      ]
    },
    {
      "cell_type": "code",
      "source": [
        "data3"
      ],
      "metadata": {
        "colab": {
          "base_uri": "https://localhost:8080/"
        },
        "id": "SWaEjqFfBsW3",
        "outputId": "6bf7ee8d-436f-4b2f-f31a-c0c56a401707"
      },
      "execution_count": null,
      "outputs": [
        {
          "output_type": "execute_result",
          "data": {
            "text/plain": [
              "[[2, 23, 33, 14], [1, 74, -5, 28], [32, 45, 22, 1]]"
            ]
          },
          "metadata": {},
          "execution_count": 14
        }
      ]
    },
    {
      "cell_type": "code",
      "source": [
        "arr3"
      ],
      "metadata": {
        "colab": {
          "base_uri": "https://localhost:8080/"
        },
        "id": "qPQaCx9IB05P",
        "outputId": "2473a1a1-3303-4fda-a10b-5d0e908d5445"
      },
      "execution_count": null,
      "outputs": [
        {
          "output_type": "execute_result",
          "data": {
            "text/plain": [
              "array([[ 2, 23, 33, 14],\n",
              "       [ 1, 74, -5, 28],\n",
              "       [32, 45, 22,  1]])"
            ]
          },
          "metadata": {},
          "execution_count": 15
        }
      ]
    },
    {
      "cell_type": "code",
      "source": [
        "d3 = [[[0 for col in range(4)]for row in range(4)] for x in range(3)]"
      ],
      "metadata": {
        "id": "NM6a93AnB4uf"
      },
      "execution_count": null,
      "outputs": []
    },
    {
      "cell_type": "code",
      "source": [
        "d3[1][1][1] = 16"
      ],
      "metadata": {
        "id": "1utpdyERHvyY"
      },
      "execution_count": null,
      "outputs": []
    },
    {
      "cell_type": "code",
      "source": [
        "d3"
      ],
      "metadata": {
        "colab": {
          "base_uri": "https://localhost:8080/"
        },
        "id": "vWkwf3gSK20c",
        "outputId": "4f68d906-770d-4c4c-e613-e9c10489c9a2"
      },
      "execution_count": null,
      "outputs": [
        {
          "output_type": "execute_result",
          "data": {
            "text/plain": [
              "[[[0, 0, 0, 0], [0, 0, 0, 0], [0, 0, 0, 0], [0, 0, 0, 0]],\n",
              " [[0, 0, 0, 0], [0, 16, 0, 0], [0, 0, 0, 0], [0, 0, 0, 0]],\n",
              " [[0, 0, 0, 0], [0, 0, 0, 0], [0, 0, 0, 0], [0, 0, 0, 0]]]"
            ]
          },
          "metadata": {},
          "execution_count": 43
        }
      ]
    },
    {
      "cell_type": "code",
      "source": [
        "arr4 = np.array(d3)"
      ],
      "metadata": {
        "id": "ma8tFVGYKJeR"
      },
      "execution_count": null,
      "outputs": []
    },
    {
      "cell_type": "code",
      "source": [
        "arr4"
      ],
      "metadata": {
        "colab": {
          "base_uri": "https://localhost:8080/"
        },
        "id": "kXqAXG4-KPmR",
        "outputId": "3e77f18f-989e-4ed4-dd11-af8aa42ebdb3"
      },
      "execution_count": null,
      "outputs": [
        {
          "output_type": "execute_result",
          "data": {
            "text/plain": [
              "array([[[ 0,  0,  0,  0],\n",
              "        [ 0,  0,  0,  0],\n",
              "        [ 0,  0,  0,  0],\n",
              "        [ 0,  0,  0,  0]],\n",
              "\n",
              "       [[ 0,  0,  0,  0],\n",
              "        [ 0, 16,  0,  0],\n",
              "        [ 0,  0,  0,  0],\n",
              "        [ 0,  0,  0,  0]],\n",
              "\n",
              "       [[ 0,  0,  0,  0],\n",
              "        [ 0,  0,  0,  0],\n",
              "        [ 0,  0,  0,  0],\n",
              "        [ 0,  0,  0,  0]]])"
            ]
          },
          "metadata": {},
          "execution_count": 45
        }
      ]
    },
    {
      "cell_type": "code",
      "source": [
        "arr4.ndim"
      ],
      "metadata": {
        "colab": {
          "base_uri": "https://localhost:8080/"
        },
        "id": "DMHQzc_nKSvR",
        "outputId": "182bcbf1-0af6-44c6-82a8-d039f082959b"
      },
      "execution_count": null,
      "outputs": [
        {
          "output_type": "execute_result",
          "data": {
            "text/plain": [
              "3"
            ]
          },
          "metadata": {},
          "execution_count": 46
        }
      ]
    },
    {
      "cell_type": "markdown",
      "source": [
        "# Uch o'lchovli array(massiv) yaratish"
      ],
      "metadata": {
        "id": "bJ3g5ElGRnYG"
      }
    },
    {
      "cell_type": "code",
      "source": [
        "data5 = [[[5, 23, 21], [45, 23, 3], [21, 33, 22]],[[2, 4, 3], [2, 4, 4], [2, 4, 7]]] # python list ichida list (nested list) x,y,z"
      ],
      "metadata": {
        "id": "Kg-R7Ij6NNPV"
      },
      "execution_count": null,
      "outputs": []
    },
    {
      "cell_type": "code",
      "source": [
        "data5"
      ],
      "metadata": {
        "colab": {
          "base_uri": "https://localhost:8080/"
        },
        "id": "5psJJRrsN90N",
        "outputId": "f3a828c9-9ed4-418a-f55e-54804628af26"
      },
      "execution_count": null,
      "outputs": [
        {
          "output_type": "execute_result",
          "data": {
            "text/plain": [
              "[[[5, 23, 21], [45, 23, 3], [21, 33, 22]], [[2, 4, 3], [2, 4, 4], [2, 4, 7]]]"
            ]
          },
          "metadata": {},
          "execution_count": 48
        }
      ]
    },
    {
      "cell_type": "code",
      "source": [
        "arr5 = np.array(data5)  # numpy array 3 o'lchovli(x, y, z)"
      ],
      "metadata": {
        "id": "T-jTy89_OCF8"
      },
      "execution_count": null,
      "outputs": []
    },
    {
      "cell_type": "code",
      "source": [
        "arr5"
      ],
      "metadata": {
        "colab": {
          "base_uri": "https://localhost:8080/"
        },
        "id": "zotEJipLOJCs",
        "outputId": "57716412-cf0c-4d54-d6c1-5a798fb5e985"
      },
      "execution_count": null,
      "outputs": [
        {
          "output_type": "execute_result",
          "data": {
            "text/plain": [
              "array([[[ 5, 23, 21],\n",
              "        [45, 23,  3],\n",
              "        [21, 33, 22]],\n",
              "\n",
              "       [[ 2,  4,  3],\n",
              "        [ 2,  4,  4],\n",
              "        [ 2,  4,  7]]])"
            ]
          },
          "metadata": {},
          "execution_count": 50
        }
      ]
    },
    {
      "cell_type": "code",
      "source": [
        "arr5.ndim  # ndim metodi arrayning necha o'lchovligini aniqlab qaytaradi"
      ],
      "metadata": {
        "colab": {
          "base_uri": "https://localhost:8080/"
        },
        "id": "jfRUMEhIOMMM",
        "outputId": "7b77f8cd-69c4-4732-cc82-91a974b89a44"
      },
      "execution_count": null,
      "outputs": [
        {
          "output_type": "execute_result",
          "data": {
            "text/plain": [
              "3"
            ]
          },
          "metadata": {},
          "execution_count": 54
        }
      ]
    },
    {
      "cell_type": "code",
      "source": [
        "arr5[0][2][1]  # index bo'yicha 3 o'lchovli massivdan elementni chaqirish"
      ],
      "metadata": {
        "colab": {
          "base_uri": "https://localhost:8080/"
        },
        "id": "5iCr9sWHORrV",
        "outputId": "a505e497-afaf-4c3d-def2-a60938276d99"
      },
      "execution_count": null,
      "outputs": [
        {
          "output_type": "execute_result",
          "data": {
            "text/plain": [
              "33"
            ]
          },
          "metadata": {},
          "execution_count": 55
        }
      ]
    },
    {
      "cell_type": "code",
      "source": [
        "arr5.shape  # qator va ustunlar sonini ko'rsatadi (q, u) ko'rinishida"
      ],
      "metadata": {
        "colab": {
          "base_uri": "https://localhost:8080/"
        },
        "id": "lFlFPWMlKaop",
        "outputId": "95b41ee8-fe40-4742-8d56-3fa445fe324c"
      },
      "execution_count": null,
      "outputs": [
        {
          "output_type": "execute_result",
          "data": {
            "text/plain": [
              "(2, 3, 3)"
            ]
          },
          "metadata": {},
          "execution_count": 56
        }
      ]
    },
    {
      "cell_type": "code",
      "source": [
        "arr5.size # arr5 ning elementlar soni"
      ],
      "metadata": {
        "colab": {
          "base_uri": "https://localhost:8080/"
        },
        "id": "5s18n9FmTAuL",
        "outputId": "1f877c66-76f7-43e6-f201-a0933d4c3368"
      },
      "execution_count": null,
      "outputs": [
        {
          "output_type": "execute_result",
          "data": {
            "text/plain": [
              "18"
            ]
          },
          "metadata": {},
          "execution_count": 58
        }
      ]
    },
    {
      "cell_type": "code",
      "source": [
        "arr6 = np.zeros(shape=(2, 4, 3)) # barcha elementlari 0 ga teng bo'lgan (2, 4, 3) o'lchovli massiv"
      ],
      "metadata": {
        "id": "bE2kr648TPyj"
      },
      "execution_count": null,
      "outputs": []
    },
    {
      "cell_type": "code",
      "source": [
        "arr6"
      ],
      "metadata": {
        "colab": {
          "base_uri": "https://localhost:8080/"
        },
        "id": "mmbuhDR2TyYT",
        "outputId": "f30ce6f5-0449-4dab-de2f-ab15dd765532"
      },
      "execution_count": null,
      "outputs": [
        {
          "output_type": "execute_result",
          "data": {
            "text/plain": [
              "array([[[0., 0., 0.],\n",
              "        [0., 0., 0.],\n",
              "        [0., 0., 0.],\n",
              "        [0., 0., 0.]],\n",
              "\n",
              "       [[0., 0., 0.],\n",
              "        [0., 0., 0.],\n",
              "        [0., 0., 0.],\n",
              "        [0., 0., 0.]]])"
            ]
          },
          "metadata": {},
          "execution_count": 67
        }
      ]
    },
    {
      "cell_type": "code",
      "source": [
        "arr7 = np.ones((2, 4))  # barcha elementlari 1 ga teng bo'lgan (2, 4) o'lchovli massiv"
      ],
      "metadata": {
        "id": "CXLhQ6ZeTzZ7"
      },
      "execution_count": null,
      "outputs": []
    },
    {
      "cell_type": "code",
      "source": [
        "arr7"
      ],
      "metadata": {
        "colab": {
          "base_uri": "https://localhost:8080/"
        },
        "id": "jT0K-456T9bz",
        "outputId": "3da00258-e59e-4849-98fc-5dca7b99a452"
      },
      "execution_count": null,
      "outputs": [
        {
          "output_type": "execute_result",
          "data": {
            "text/plain": [
              "array([[1., 1., 1., 1.],\n",
              "       [1., 1., 1., 1.]])"
            ]
          },
          "metadata": {},
          "execution_count": 69
        }
      ]
    },
    {
      "cell_type": "markdown",
      "source": [
        "# arange funksiyasi yordamida yaratish"
      ],
      "metadata": {
        "id": "efLdL2CIU0Vg"
      }
    },
    {
      "cell_type": "code",
      "source": [
        "arr8 = np.arange(4, 20, 2)"
      ],
      "metadata": {
        "id": "1C6mHgtEUEcr"
      },
      "execution_count": null,
      "outputs": []
    },
    {
      "cell_type": "code",
      "source": [
        "arr8"
      ],
      "metadata": {
        "id": "9arF74JSVDvS",
        "outputId": "c2b8aa2a-3cef-49cb-d0b7-b123da1922b5",
        "colab": {
          "base_uri": "https://localhost:8080/"
        }
      },
      "execution_count": null,
      "outputs": [
        {
          "output_type": "execute_result",
          "data": {
            "text/plain": [
              "array([ 4,  6,  8, 10, 12, 14, 16, 18])"
            ]
          },
          "metadata": {},
          "execution_count": 71
        }
      ]
    },
    {
      "cell_type": "code",
      "source": [
        ""
      ],
      "metadata": {
        "id": "PFapxnVpVEo0"
      },
      "execution_count": null,
      "outputs": []
    }
  ]
}